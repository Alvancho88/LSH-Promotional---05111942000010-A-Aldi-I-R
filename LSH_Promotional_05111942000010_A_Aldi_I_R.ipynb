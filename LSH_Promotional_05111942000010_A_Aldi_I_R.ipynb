{
  "nbformat": 4,
  "nbformat_minor": 0,
  "metadata": {
    "colab": {
      "provenance": []
    },
    "kernelspec": {
      "name": "python3",
      "display_name": "Python 3"
    },
    "language_info": {
      "name": "python"
    }
  },
  "cells": [
    {
      "cell_type": "code",
      "execution_count": 1,
      "metadata": {
        "colab": {
          "base_uri": "https://localhost:8080/"
        },
        "id": "Y82tsPXvL2jy",
        "outputId": "02bb8069-ac36-425f-f83a-fa0a407dc05d"
      },
      "outputs": [
        {
          "output_type": "stream",
          "name": "stdout",
          "text": [
            "openjdk 11.0.18 2023-01-17\n",
            "OpenJDK Runtime Environment (build 11.0.18+10-post-Ubuntu-0ubuntu120.04.1)\n",
            "OpenJDK 64-Bit Server VM (build 11.0.18+10-post-Ubuntu-0ubuntu120.04.1, mixed mode, sharing)\n",
            "Python 3.9.16\n"
          ]
        }
      ],
      "source": [
        "!java --version\n",
        "!python --version"
      ]
    },
    {
      "cell_type": "code",
      "source": [
        "!pip install pyspark"
      ],
      "metadata": {
        "colab": {
          "base_uri": "https://localhost:8080/"
        },
        "id": "VxFv1FDDfzPW",
        "outputId": "567b41e4-e832-452a-b190-320507bc20bb"
      },
      "execution_count": 2,
      "outputs": [
        {
          "output_type": "stream",
          "name": "stdout",
          "text": [
            "Looking in indexes: https://pypi.org/simple, https://us-python.pkg.dev/colab-wheels/public/simple/\n",
            "Collecting pyspark\n",
            "  Downloading pyspark-3.3.2.tar.gz (281.4 MB)\n",
            "\u001b[2K     \u001b[90m━━━━━━━━━━━━━━━━━━━━━━━━━━━━━━━━━━━━━━━\u001b[0m \u001b[32m281.4/281.4 MB\u001b[0m \u001b[31m3.9 MB/s\u001b[0m eta \u001b[36m0:00:00\u001b[0m\n",
            "\u001b[?25h  Preparing metadata (setup.py) ... \u001b[?25l\u001b[?25hdone\n",
            "Collecting py4j==0.10.9.5\n",
            "  Downloading py4j-0.10.9.5-py2.py3-none-any.whl (199 kB)\n",
            "\u001b[2K     \u001b[90m━━━━━━━━━━━━━━━━━━━━━━━━━━━━━━━━━━━━━━\u001b[0m \u001b[32m199.7/199.7 KB\u001b[0m \u001b[31m21.3 MB/s\u001b[0m eta \u001b[36m0:00:00\u001b[0m\n",
            "\u001b[?25hBuilding wheels for collected packages: pyspark\n",
            "  Building wheel for pyspark (setup.py) ... \u001b[?25l\u001b[?25hdone\n",
            "  Created wheel for pyspark: filename=pyspark-3.3.2-py2.py3-none-any.whl size=281824025 sha256=4e6553b42491463dafac4fe6d9c2d9fa79bf67665ae4bf033c32aa8e3f4397e1\n",
            "  Stored in directory: /root/.cache/pip/wheels/6c/e3/9b/0525ce8a69478916513509d43693511463c6468db0de237c86\n",
            "Successfully built pyspark\n",
            "Installing collected packages: py4j, pyspark\n",
            "Successfully installed py4j-0.10.9.5 pyspark-3.3.2\n"
          ]
        }
      ]
    },
    {
      "cell_type": "code",
      "source": [
        "# Import Apache Spark SQL\n",
        "from pyspark.sql import SparkSession\n",
        "\n",
        "# Create Spark Session/Context\n",
        "# We are using local machine with all the CPU cores [*]\n",
        "spark = SparkSession.builder \\\n",
        "    .master(\"local[*]\") \\\n",
        "    .appName(\"Hello Pyspark\") \\\n",
        "    .config(\"spark.some.config.option\", \"some-value\") \\\n",
        "    .getOrCreate()"
      ],
      "metadata": {
        "id": "Lu0CJ1iwf0kD"
      },
      "execution_count": 3,
      "outputs": []
    },
    {
      "cell_type": "code",
      "source": [
        "# Check spark session\n",
        "print(spark)"
      ],
      "metadata": {
        "colab": {
          "base_uri": "https://localhost:8080/"
        },
        "id": "GOgXe1MNf2lT",
        "outputId": "d7afaa4d-b606-4b2c-fab2-34449e9a9029"
      },
      "execution_count": 4,
      "outputs": [
        {
          "output_type": "stream",
          "name": "stdout",
          "text": [
            "<pyspark.sql.session.SparkSession object at 0x7f786c2baac0>\n"
          ]
        }
      ]
    },
    {
      "cell_type": "code",
      "source": [
        "!pip install kaggle"
      ],
      "metadata": {
        "colab": {
          "base_uri": "https://localhost:8080/"
        },
        "id": "5OJXGn3Sf4yn",
        "outputId": "ecb6c72c-a1ff-49db-d787-296bb95da0fd"
      },
      "execution_count": 5,
      "outputs": [
        {
          "output_type": "stream",
          "name": "stdout",
          "text": [
            "Looking in indexes: https://pypi.org/simple, https://us-python.pkg.dev/colab-wheels/public/simple/\n",
            "Requirement already satisfied: kaggle in /usr/local/lib/python3.9/dist-packages (1.5.13)\n",
            "Requirement already satisfied: certifi in /usr/local/lib/python3.9/dist-packages (from kaggle) (2022.12.7)\n",
            "Requirement already satisfied: requests in /usr/local/lib/python3.9/dist-packages (from kaggle) (2.25.1)\n",
            "Requirement already satisfied: tqdm in /usr/local/lib/python3.9/dist-packages (from kaggle) (4.65.0)\n",
            "Requirement already satisfied: six>=1.10 in /usr/local/lib/python3.9/dist-packages (from kaggle) (1.15.0)\n",
            "Requirement already satisfied: python-slugify in /usr/local/lib/python3.9/dist-packages (from kaggle) (8.0.1)\n",
            "Requirement already satisfied: python-dateutil in /usr/local/lib/python3.9/dist-packages (from kaggle) (2.8.2)\n",
            "Requirement already satisfied: urllib3 in /usr/local/lib/python3.9/dist-packages (from kaggle) (1.26.14)\n",
            "Requirement already satisfied: text-unidecode>=1.3 in /usr/local/lib/python3.9/dist-packages (from python-slugify->kaggle) (1.3)\n",
            "Requirement already satisfied: idna<3,>=2.5 in /usr/local/lib/python3.9/dist-packages (from requests->kaggle) (2.10)\n",
            "Requirement already satisfied: chardet<5,>=3.0.2 in /usr/local/lib/python3.9/dist-packages (from requests->kaggle) (4.0.0)\n"
          ]
        }
      ]
    },
    {
      "cell_type": "code",
      "source": [
        "!mkdir ~/.kaggle/\n",
        "!touch ~/.kaggle/kaggle.json\n",
        "\n",
        "# PLEASE USE YOUR OWN KEY\n",
        "# Download your own key according to this instruction https://github.com/Kaggle/kaggle-api#api-credentials\n",
        "\n",
        "api_token = {\"username\":\"agustinusaldi\",\"key\":\"d9afe6ee6f7cf0d490cb9b33a8c2e730\"}\n",
        "\n",
        "import json\n",
        "\n",
        "with open('/root/.kaggle/kaggle.json', 'w') as file:\n",
        "    json.dump(api_token, file)\n",
        "\n",
        "!chmod 600 ~/.kaggle/kaggle.json"
      ],
      "metadata": {
        "id": "jFVGPbaQf6qP"
      },
      "execution_count": 6,
      "outputs": []
    },
    {
      "cell_type": "code",
      "source": [
        "# Download from https://www.kaggle.com/datasets/urbanbricks/wikipedia-promotional-articles\n",
        "\n",
        "!kaggle datasets download -d urbanbricks/wikipedia-promotional-articles"
      ],
      "metadata": {
        "colab": {
          "base_uri": "https://localhost:8080/"
        },
        "id": "k_NzOdwTf8St",
        "outputId": "aa05ab2e-00b2-4111-bcb1-0db8d376149d"
      },
      "execution_count": 7,
      "outputs": [
        {
          "output_type": "stream",
          "name": "stdout",
          "text": [
            "Downloading wikipedia-promotional-articles.zip to /content\n",
            " 97% 195M/201M [00:02<00:00, 132MB/s]\n",
            "100% 201M/201M [00:02<00:00, 104MB/s]\n"
          ]
        }
      ]
    },
    {
      "cell_type": "code",
      "source": [
        "!unzip wikipedia-promotional-articles.zip"
      ],
      "metadata": {
        "colab": {
          "base_uri": "https://localhost:8080/"
        },
        "id": "oq9UIKaXf9dl",
        "outputId": "84c46905-7594-498e-8048-5f36edb60f72"
      },
      "execution_count": 8,
      "outputs": [
        {
          "output_type": "stream",
          "name": "stdout",
          "text": [
            "Archive:  wikipedia-promotional-articles.zip\n",
            "  inflating: good.csv                \n",
            "  inflating: promotional.csv         \n"
          ]
        }
      ]
    },
    {
      "cell_type": "code",
      "source": [
        "!ls -la"
      ],
      "metadata": {
        "colab": {
          "base_uri": "https://localhost:8080/"
        },
        "id": "ufqG5QLrf-cB",
        "outputId": "7e1cb729-92ae-47b2-d372-fbe254456e3a"
      },
      "execution_count": 9,
      "outputs": [
        {
          "output_type": "stream",
          "name": "stdout",
          "text": [
            "total 783144\n",
            "drwxr-xr-x 1 root root      4096 Mar  9 04:13 .\n",
            "drwxr-xr-x 1 root root      4096 Mar  9 03:54 ..\n",
            "drwxr-xr-x 4 root root      4096 Mar  7 18:12 .config\n",
            "-rw-r--r-- 1 root root 475685227 Oct 27  2019 good.csv\n",
            "-rw-r--r-- 1 root root 115360355 Oct 27  2019 promotional.csv\n",
            "drwxr-xr-x 1 root root      4096 Mar  7 18:14 sample_data\n",
            "-rw-r--r-- 1 root root 210863294 Mar  9 04:11 wikipedia-promotional-articles.zip\n"
          ]
        }
      ]
    },
    {
      "cell_type": "code",
      "source": [
        "# Read CSV\n",
        "df = spark.read.option(\"header\", True).csv(\"/content/promotional.csv\")\n",
        "df.printSchema()"
      ],
      "metadata": {
        "colab": {
          "base_uri": "https://localhost:8080/"
        },
        "id": "fVfrAVDAf_lb",
        "outputId": "f0d83a54-8b60-411d-f452-534875c86995"
      },
      "execution_count": 11,
      "outputs": [
        {
          "output_type": "stream",
          "name": "stdout",
          "text": [
            "root\n",
            " |-- text: string (nullable = true)\n",
            " |-- advert: string (nullable = true)\n",
            " |-- coi: string (nullable = true)\n",
            " |-- fanpov: string (nullable = true)\n",
            " |-- pr: string (nullable = true)\n",
            " |-- resume: string (nullable = true)\n",
            " |-- url: string (nullable = true)\n",
            "\n"
          ]
        }
      ]
    },
    {
      "cell_type": "code",
      "source": [
        "# Add an ID for the dataset\n",
        "from pyspark.sql.functions import monotonically_increasing_id\n",
        "\n",
        "newsDF = df.withColumn(\"id\", monotonically_increasing_id())\n",
        "newsDF.show()"
      ],
      "metadata": {
        "colab": {
          "base_uri": "https://localhost:8080/"
        },
        "id": "5ARXzx6SgAot",
        "outputId": "559a3dfc-a6aa-45c6-a266-c8f1329e4c91"
      },
      "execution_count": 12,
      "outputs": [
        {
          "output_type": "stream",
          "name": "stdout",
          "text": [
            "+--------------------+------+---+------+---+------+--------------------+---+\n",
            "|                text|advert|coi|fanpov| pr|resume|                 url| id|\n",
            "+--------------------+------+---+------+---+------+--------------------+---+\n",
            "|1 Litre no Namida...|     0|  0|     1|  0|     0|https://en.wikipe...|  0|\n",
            "|1DayLater was fre...|     1|  1|     0|  0|     0|https://en.wikipe...|  1|\n",
            "|1E is a privately...|     1|  0|     0|  0|     0|https://en.wikipe...|  2|\n",
            "|1Malaysia pronoun...|     1|  0|     0|  0|     0|https://en.wikipe...|  3|\n",
            "|The Jerusalem Bie...|     1|  0|     0|  0|     0|https://en.wikipe...|  4|\n",
            "|1st Round Enterpr...|     0|  0|     0|  1|     0|https://en.wikipe...|  5|\n",
            "|2ergo is a provid...|     1|  0|     0|  0|     0|https://en.wikipe...|  6|\n",
            "|2N Telekomunikace...|     1|  0|     0|  0|     0|https://en.wikipe...|  7|\n",
            "|A 3D printing mar...|     1|  0|     0|  0|     0|https://en.wikipe...|  8|\n",
            "|3DR is an America...|     1|  1|     0|  0|     0|https://en.wikipe...|  9|\n",
            "|3D Systems, headq...|     1|  0|     0|  0|     0|https://en.wikipe...| 10|\n",
            "|3Delight, is 3D c...|     0|  0|     0|  0|     1|https://en.wikipe...| 11|\n",
            "|3DVIA is a brand ...|     1|  1|     0|  0|     0|https://en.wikipe...| 12|\n",
            "|3i Infotech Ltd e...|     1|  0|     0|  0|     0|https://en.wikipe...| 13|\n",
            "|3logy is the Pino...|     1|  0|     0|  0|     0|https://en.wikipe...| 14|\n",
            "|The 4 Hour Chef T...|     1|  0|     0|  1|     0|https://en.wikipe...| 15|\n",
            "|4Children was a c...|     1|  1|     0|  0|     0|https://en.wikipe...| 16|\n",
            "|If this article d...|     1|  0|     0|  0|     0|https://en.wikipe...| 17|\n",
            "|4G Americas is a ...|     0|  0|     0|  1|     0|https://en.wikipe...| 18|\n",
            "|4MMM identified o...|     1|  0|     0|  0|     0|https://en.wikipe...| 19|\n",
            "+--------------------+------+---+------+---+------+--------------------+---+\n",
            "only showing top 20 rows\n",
            "\n"
          ]
        }
      ]
    },
    {
      "cell_type": "code",
      "source": [
        "# Get the total rows\n",
        "newsDF.count()"
      ],
      "metadata": {
        "colab": {
          "base_uri": "https://localhost:8080/"
        },
        "id": "Du7p6sFegCAV",
        "outputId": "51039f9d-26de-40ad-bc6c-0319e9ec7f38"
      },
      "execution_count": 13,
      "outputs": [
        {
          "output_type": "execute_result",
          "data": {
            "text/plain": [
              "23837"
            ]
          },
          "metadata": {},
          "execution_count": 13
        }
      ]
    },
    {
      "cell_type": "markdown",
      "source": [
        "**1. Prepare the tokenizer**"
      ],
      "metadata": {
        "id": "PTzC29flgZxh"
      }
    },
    {
      "cell_type": "code",
      "source": [
        "# Prepare the tokenizer\n",
        "from pyspark.ml.feature import Tokenizer\n",
        "\n",
        "tokenizer = Tokenizer(inputCol=\"text\", outputCol=\"words\")\n",
        "wordsDF = tokenizer.transform(newsDF)\n",
        "\n",
        "wordsDF.show()"
      ],
      "metadata": {
        "colab": {
          "base_uri": "https://localhost:8080/"
        },
        "id": "y39ETMaNgDA7",
        "outputId": "b3e6a224-70a1-471f-b070-0347829f1eea"
      },
      "execution_count": 14,
      "outputs": [
        {
          "output_type": "stream",
          "name": "stdout",
          "text": [
            "+--------------------+------+---+------+---+------+--------------------+---+--------------------+\n",
            "|                text|advert|coi|fanpov| pr|resume|                 url| id|               words|\n",
            "+--------------------+------+---+------+---+------+--------------------+---+--------------------+\n",
            "|1 Litre no Namida...|     0|  0|     1|  0|     0|https://en.wikipe...|  0|[1, litre, no, na...|\n",
            "|1DayLater was fre...|     1|  1|     0|  0|     0|https://en.wikipe...|  1|[1daylater, was, ...|\n",
            "|1E is a privately...|     1|  0|     0|  0|     0|https://en.wikipe...|  2|[1e, is, a, priva...|\n",
            "|1Malaysia pronoun...|     1|  0|     0|  0|     0|https://en.wikipe...|  3|[1malaysia, prono...|\n",
            "|The Jerusalem Bie...|     1|  0|     0|  0|     0|https://en.wikipe...|  4|[the, jerusalem, ...|\n",
            "|1st Round Enterpr...|     0|  0|     0|  1|     0|https://en.wikipe...|  5|[1st, round, ente...|\n",
            "|2ergo is a provid...|     1|  0|     0|  0|     0|https://en.wikipe...|  6|[2ergo, is, a, pr...|\n",
            "|2N Telekomunikace...|     1|  0|     0|  0|     0|https://en.wikipe...|  7|[2n, telekomunika...|\n",
            "|A 3D printing mar...|     1|  0|     0|  0|     0|https://en.wikipe...|  8|[a, 3d, printing,...|\n",
            "|3DR is an America...|     1|  1|     0|  0|     0|https://en.wikipe...|  9|[3dr, is, an, ame...|\n",
            "|3D Systems, headq...|     1|  0|     0|  0|     0|https://en.wikipe...| 10|[3d, systems,, he...|\n",
            "|3Delight, is 3D c...|     0|  0|     0|  0|     1|https://en.wikipe...| 11|[3delight,, is, 3...|\n",
            "|3DVIA is a brand ...|     1|  1|     0|  0|     0|https://en.wikipe...| 12|[3dvia, is, a, br...|\n",
            "|3i Infotech Ltd e...|     1|  0|     0|  0|     0|https://en.wikipe...| 13|[3i, infotech, lt...|\n",
            "|3logy is the Pino...|     1|  0|     0|  0|     0|https://en.wikipe...| 14|[3logy, is, the, ...|\n",
            "|The 4 Hour Chef T...|     1|  0|     0|  1|     0|https://en.wikipe...| 15|[the, 4, hour, ch...|\n",
            "|4Children was a c...|     1|  1|     0|  0|     0|https://en.wikipe...| 16|[4children, was, ...|\n",
            "|If this article d...|     1|  0|     0|  0|     0|https://en.wikipe...| 17|[if, this, articl...|\n",
            "|4G Americas is a ...|     0|  0|     0|  1|     0|https://en.wikipe...| 18|[4g, americas, is...|\n",
            "|4MMM identified o...|     1|  0|     0|  0|     0|https://en.wikipe...| 19|[4mmm, identified...|\n",
            "+--------------------+------+---+------+---+------+--------------------+---+--------------------+\n",
            "only showing top 20 rows\n",
            "\n"
          ]
        }
      ]
    },
    {
      "cell_type": "code",
      "source": [
        "# Vectorize the dataset\n",
        "from pyspark.ml.feature import CountVectorizer\n",
        "\n",
        "vocabSize=1000\n",
        "\n",
        "# Train the CountVectorizer Model using our data\n",
        "cvModel = CountVectorizer(inputCol=\"words\", outputCol=\"features\", vocabSize=vocabSize, minDF=10).fit(wordsDF)\n",
        "\n",
        "# Transform our data into vector\n",
        "vectorizedDF = cvModel.transform(wordsDF)\n",
        "vectorizedDF.show()"
      ],
      "metadata": {
        "colab": {
          "base_uri": "https://localhost:8080/"
        },
        "id": "DMV01wkagEG_",
        "outputId": "c847f2c8-6eee-4c2c-f9b1-4ef693771754"
      },
      "execution_count": 15,
      "outputs": [
        {
          "output_type": "stream",
          "name": "stdout",
          "text": [
            "+--------------------+------+---+------+---+------+--------------------+---+--------------------+--------------------+\n",
            "|                text|advert|coi|fanpov| pr|resume|                 url| id|               words|            features|\n",
            "+--------------------+------+---+------+---+------+--------------------+---+--------------------+--------------------+\n",
            "|1 Litre no Namida...|     0|  0|     1|  0|     0|https://en.wikipe...|  0|[1, litre, no, na...|(1000,[0,1,2,3,4,...|\n",
            "|1DayLater was fre...|     1|  1|     0|  0|     0|https://en.wikipe...|  1|[1daylater, was, ...|(1000,[0,1,2,3,4,...|\n",
            "|1E is a privately...|     1|  0|     0|  0|     0|https://en.wikipe...|  2|[1e, is, a, priva...|(1000,[0,1,2,3,4,...|\n",
            "|1Malaysia pronoun...|     1|  0|     0|  0|     0|https://en.wikipe...|  3|[1malaysia, prono...|(1000,[0,1,2,3,4,...|\n",
            "|The Jerusalem Bie...|     1|  0|     0|  0|     0|https://en.wikipe...|  4|[the, jerusalem, ...|(1000,[0,1,2,3,4,...|\n",
            "|1st Round Enterpr...|     0|  0|     0|  1|     0|https://en.wikipe...|  5|[1st, round, ente...|(1000,[0,1,2,3,4,...|\n",
            "|2ergo is a provid...|     1|  0|     0|  0|     0|https://en.wikipe...|  6|[2ergo, is, a, pr...|(1000,[0,1,2,3,4,...|\n",
            "|2N Telekomunikace...|     1|  0|     0|  0|     0|https://en.wikipe...|  7|[2n, telekomunika...|(1000,[0,1,2,3,4,...|\n",
            "|A 3D printing mar...|     1|  0|     0|  0|     0|https://en.wikipe...|  8|[a, 3d, printing,...|(1000,[0,1,2,3,4,...|\n",
            "|3DR is an America...|     1|  1|     0|  0|     0|https://en.wikipe...|  9|[3dr, is, an, ame...|(1000,[0,1,2,3,4,...|\n",
            "|3D Systems, headq...|     1|  0|     0|  0|     0|https://en.wikipe...| 10|[3d, systems,, he...|(1000,[0,1,2,3,4,...|\n",
            "|3Delight, is 3D c...|     0|  0|     0|  0|     1|https://en.wikipe...| 11|[3delight,, is, 3...|(1000,[0,1,2,3,4,...|\n",
            "|3DVIA is a brand ...|     1|  1|     0|  0|     0|https://en.wikipe...| 12|[3dvia, is, a, br...|(1000,[0,1,2,3,4,...|\n",
            "|3i Infotech Ltd e...|     1|  0|     0|  0|     0|https://en.wikipe...| 13|[3i, infotech, lt...|(1000,[0,1,2,3,4,...|\n",
            "|3logy is the Pino...|     1|  0|     0|  0|     0|https://en.wikipe...| 14|[3logy, is, the, ...|(1000,[0,1,2,3,4,...|\n",
            "|The 4 Hour Chef T...|     1|  0|     0|  1|     0|https://en.wikipe...| 15|[the, 4, hour, ch...|(1000,[0,1,2,3,4,...|\n",
            "|4Children was a c...|     1|  1|     0|  0|     0|https://en.wikipe...| 16|[4children, was, ...|(1000,[0,1,2,3,4,...|\n",
            "|If this article d...|     1|  0|     0|  0|     0|https://en.wikipe...| 17|[if, this, articl...|(1000,[0,1,2,3,4,...|\n",
            "|4G Americas is a ...|     0|  0|     0|  1|     0|https://en.wikipe...| 18|[4g, americas, is...|(1000,[0,1,2,3,4,...|\n",
            "|4MMM identified o...|     1|  0|     0|  0|     0|https://en.wikipe...| 19|[4mmm, identified...|(1000,[0,1,2,3,4,...|\n",
            "+--------------------+------+---+------+---+------+--------------------+---+--------------------+--------------------+\n",
            "only showing top 20 rows\n",
            "\n"
          ]
        }
      ]
    },
    {
      "cell_type": "markdown",
      "source": [
        "\n",
        "**2. Fit/train an LSH Model**"
      ],
      "metadata": {
        "id": "tlAeyAhvgG9j"
      }
    },
    {
      "cell_type": "code",
      "source": [
        "from  pyspark.ml.feature import MinHashLSH\n",
        "\n",
        "mh = MinHashLSH(inputCol=\"features\", outputCol=\"hashValues\", numHashTables=3)\n",
        "LSHmodel = mh.fit(vectorizedDF)\n",
        "\n",
        "LSHmodel.transform(vectorizedDF).show()"
      ],
      "metadata": {
        "colab": {
          "base_uri": "https://localhost:8080/"
        },
        "id": "HSjWxh3NgFSF",
        "outputId": "d7bf4bd5-4909-4565-cf0b-3748bf7b7409"
      },
      "execution_count": 16,
      "outputs": [
        {
          "output_type": "stream",
          "name": "stdout",
          "text": [
            "+--------------------+------+---+------+---+------+--------------------+---+--------------------+--------------------+--------------------+\n",
            "|                text|advert|coi|fanpov| pr|resume|                 url| id|               words|            features|          hashValues|\n",
            "+--------------------+------+---+------+---+------+--------------------+---+--------------------+--------------------+--------------------+\n",
            "|1 Litre no Namida...|     0|  0|     1|  0|     0|https://en.wikipe...|  0|[1, litre, no, na...|(1000,[0,1,2,3,4,...|[[5.4583549E7], [...|\n",
            "|1DayLater was fre...|     1|  1|     0|  0|     0|https://en.wikipe...|  1|[1daylater, was, ...|(1000,[0,1,2,3,4,...|[[5.4583549E7], [...|\n",
            "|1E is a privately...|     1|  0|     0|  0|     0|https://en.wikipe...|  2|[1e, is, a, priva...|(1000,[0,1,2,3,4,...|[[5.4583549E7], [...|\n",
            "|1Malaysia pronoun...|     1|  0|     0|  0|     0|https://en.wikipe...|  3|[1malaysia, prono...|(1000,[0,1,2,3,4,...|[[5.4583549E7], [...|\n",
            "|The Jerusalem Bie...|     1|  0|     0|  0|     0|https://en.wikipe...|  4|[the, jerusalem, ...|(1000,[0,1,2,3,4,...|[[5.4583549E7], [...|\n",
            "|1st Round Enterpr...|     0|  0|     0|  1|     0|https://en.wikipe...|  5|[1st, round, ente...|(1000,[0,1,2,3,4,...|[[5.4583549E7], [...|\n",
            "|2ergo is a provid...|     1|  0|     0|  0|     0|https://en.wikipe...|  6|[2ergo, is, a, pr...|(1000,[0,1,2,3,4,...|[[5.4583549E7], [...|\n",
            "|2N Telekomunikace...|     1|  0|     0|  0|     0|https://en.wikipe...|  7|[2n, telekomunika...|(1000,[0,1,2,3,4,...|[[5.4583549E7], [...|\n",
            "|A 3D printing mar...|     1|  0|     0|  0|     0|https://en.wikipe...|  8|[a, 3d, printing,...|(1000,[0,1,2,3,4,...|[[5.4583549E7], [...|\n",
            "|3DR is an America...|     1|  1|     0|  0|     0|https://en.wikipe...|  9|[3dr, is, an, ame...|(1000,[0,1,2,3,4,...|[[5.4583549E7], [...|\n",
            "|3D Systems, headq...|     1|  0|     0|  0|     0|https://en.wikipe...| 10|[3d, systems,, he...|(1000,[0,1,2,3,4,...|[[5.4583549E7], [...|\n",
            "|3Delight, is 3D c...|     0|  0|     0|  0|     1|https://en.wikipe...| 11|[3delight,, is, 3...|(1000,[0,1,2,3,4,...|[[5.4583549E7], [...|\n",
            "|3DVIA is a brand ...|     1|  1|     0|  0|     0|https://en.wikipe...| 12|[3dvia, is, a, br...|(1000,[0,1,2,3,4,...|[[5.4583549E7], [...|\n",
            "|3i Infotech Ltd e...|     1|  0|     0|  0|     0|https://en.wikipe...| 13|[3i, infotech, lt...|(1000,[0,1,2,3,4,...|[[5.4583549E7], [...|\n",
            "|3logy is the Pino...|     1|  0|     0|  0|     0|https://en.wikipe...| 14|[3logy, is, the, ...|(1000,[0,1,2,3,4,...|[[5.4583549E7], [...|\n",
            "|The 4 Hour Chef T...|     1|  0|     0|  1|     0|https://en.wikipe...| 15|[the, 4, hour, ch...|(1000,[0,1,2,3,4,...|[[5.4583549E7], [...|\n",
            "|4Children was a c...|     1|  1|     0|  0|     0|https://en.wikipe...| 16|[4children, was, ...|(1000,[0,1,2,3,4,...|[[5.4583549E7], [...|\n",
            "|If this article d...|     1|  0|     0|  0|     0|https://en.wikipe...| 17|[if, this, articl...|(1000,[0,1,2,3,4,...|[[5.4583549E7], [...|\n",
            "|4G Americas is a ...|     0|  0|     0|  1|     0|https://en.wikipe...| 18|[4g, americas, is...|(1000,[0,1,2,3,4,...|[[5.4583549E7], [...|\n",
            "|4MMM identified o...|     1|  0|     0|  0|     0|https://en.wikipe...| 19|[4mmm, identified...|(1000,[0,1,2,3,4,...|[[5.4583549E7], [...|\n",
            "+--------------------+------+---+------+---+------+--------------------+---+--------------------+--------------------+--------------------+\n",
            "only showing top 20 rows\n",
            "\n"
          ]
        }
      ]
    },
    {
      "cell_type": "markdown",
      "source": [
        "**3. Searching the similar pairs/items for a key \"3\" \"4\"**\n",
        "\n",
        "\n"
      ],
      "metadata": {
        "id": "dLH1h-tngJT_"
      }
    },
    {
      "cell_type": "code",
      "source": [
        "print(cvModel.vocabulary.index(\"3\"))\n",
        "print(cvModel.vocabulary.index(\"4\"))"
      ],
      "metadata": {
        "colab": {
          "base_uri": "https://localhost:8080/"
        },
        "id": "2NTn-euXgGgz",
        "outputId": "308c0537-2345-4e14-b1a8-e694d93cb1a7"
      },
      "execution_count": 27,
      "outputs": [
        {
          "output_type": "stream",
          "name": "stdout",
          "text": [
            "221\n",
            "322\n"
          ]
        }
      ]
    },
    {
      "cell_type": "code",
      "source": [
        "# Testing searching for \"3D\" \"systems\"\n",
        "\n",
        "from pyspark.ml.linalg import Vectors\n",
        "\n",
        "\n",
        "# Convert the input with 3 words into 1000 size vectors\n",
        "# If the words exist in the index we will give value = 1.0, otherwise 0.0\n",
        "# Final result: key = [0, 0, ... , 1.0, ..., 1.0, 1.0, ....]\n",
        "\n",
        "key = Vectors.sparse(vocabSize, {cvModel.vocabulary.index(\"3\"): 1.0, cvModel.vocabulary.index(\"4\"): 1.0})"
      ],
      "metadata": {
        "id": "E1w4DpEHgSaT"
      },
      "execution_count": 29,
      "outputs": []
    },
    {
      "cell_type": "code",
      "source": [
        "# Define the number of neighbours\n",
        "k = 40\n",
        "\n",
        "# Search inside LSH model that we already trained\n",
        "resultDF = LSHmodel.approxNearestNeighbors(vectorizedDF, key, k)\n",
        "resultDF.show()"
      ],
      "metadata": {
        "colab": {
          "base_uri": "https://localhost:8080/"
        },
        "id": "FVfA-Z-GgT6H",
        "outputId": "4a519659-df8e-4cb6-92b0-7d35b77b240f"
      },
      "execution_count": 30,
      "outputs": [
        {
          "output_type": "stream",
          "name": "stdout",
          "text": [
            "+--------------------+------+---+------+---+------+--------------------+----------+--------------------+--------------------+--------------------+------------------+\n",
            "|                text|advert|coi|fanpov| pr|resume|                 url|        id|               words|            features|          hashValues|           distCol|\n",
            "+--------------------+------+---+------+---+------+--------------------+----------+--------------------+--------------------+--------------------+------------------+\n",
            "|Peter Mazzoni M.D...|     0|  0|     0|  0|     1|https://en.wikipe...|8589935333|[peter, mazzoni, ...|(1000,[8,16,94,14...|[[5.4959225E7], [...|0.8181818181818181|\n",
            "|Doornkop Fish and...|     1|  0|     0|  0|     0|https://en.wikipe...|      5638|[doornkop, fish, ...|(1000,[0,1,4,5,6,...|[[5.4959225E7], [...|0.9444444444444444|\n",
            "|J.J Mall is a lar...|     1|  0|     0|  0|     0|https://en.wikipe...|     10461|[j.j, mall, is, a...|(1000,[0,1,2,3,4,...|[[5.4959225E7], [...|0.9523809523809523|\n",
            "|Eric Chiryoku is ...|     1|  0|     0|  0|     0|https://en.wikipe...|      3902|[eric, chiryoku, ...|(1000,[0,1,2,3,5,...|[[5.4959225E7], [...|0.9534883720930233|\n",
            "|Paysbuy is a paym...|     1|  1|     0|  0|     0|https://en.wikipe...|8589938258|[paysbuy, is, a, ...|(1000,[0,1,2,3,4,...|[[5.4959225E7], [...| 0.962962962962963|\n",
            "|Santosh Universit...|     1|  0|     0|  0|     0|https://en.wikipe...|8589940657|[santosh, univers...|(1000,[1,2,3,4,6,...|[[5.4959225E7], [...|0.9642857142857143|\n",
            "|The Roland JX 305...|     1|  0|     0|  0|     0|https://en.wikipe...|8589940079|[the, roland, jx,...|(1000,[0,1,2,3,4,...|[[5.4959225E7], [...|0.9649122807017544|\n",
            "|Cassio Werneck is...|     1|  0|     0|  0|     0|https://en.wikipe...|8589945153|[cassio, werneck,...|(1000,[0,1,2,3,4,...|[[5.4959225E7], [...| 0.967741935483871|\n",
            "|Produced by Texas...|     1|  0|     0|  0|     0|https://en.wikipe...|8589934833|[produced, by, te...|(1000,[0,1,2,3,4,...|[[5.4959225E7], [...|0.9714285714285714|\n",
            "|Serre Chevalier i...|     1|  0|     0|  0|     0|https://en.wikipe...|8589941078|[serre, chevalier...|(1000,[0,1,2,3,4,...|[[5.4959225E7], [...|0.9722222222222222|\n",
            "|The Idaho Departm...|     1|  0|     0|  0|     0|https://en.wikipe...|      9485|[the, idaho, depa...|(1000,[0,1,2,3,4,...|[[5.4959225E7], [...| 0.972972972972973|\n",
            "|Conscious Allianc...|     1|  0|     0|  0|     0|https://en.wikipe...|      4493|[conscious, allia...|(1000,[0,1,2,3,4,...|[[5.4959225E7], [...|0.9743589743589743|\n",
            "|Nagarvala Day Sch...|     1|  0|     0|  0|     0|https://en.wikipe...|8589936499|[nagarvala, day, ...|(1000,[0,1,2,3,4,...|[[5.4959225E7], [...|0.9743589743589743|\n",
            "|BATON, BAlanced T...|     1|  0|     0|  0|     0|https://en.wikipe...|      1879|[baton,, balanced...|(1000,[0,1,2,3,4,...|[[5.4959225E7], [...|             0.975|\n",
            "|Sarasas Ektra Sch...|     1|  0|     0|  0|     0|https://en.wikipe...|8589940675|[sarasas, ektra, ...|(1000,[0,1,2,3,4,...|[[5.4959225E7], [...|             0.975|\n",
            "|William Rawn Asso...|     1|  0|     0|  0|     0|https://en.wikipe...|8589939533|[william, rawn, a...|(1000,[0,1,2,3,6,...|[[5.4959225E7], [...| 0.975609756097561|\n",
            "|KAMUI is a Japane...|     0|  0|     1|  0|     0|https://en.wikipe...|     10743|[kamui, is, a, ja...|(1000,[0,1,2,3,4,...|[[5.4959225E7], [...|0.9761904761904762|\n",
            "|The Olympus OM D ...|     1|  0|     0|  0|     0|https://en.wikipe...|8589937599|[the, olympus, om...|(1000,[0,1,2,3,5,...|[[5.4959225E7], [...|0.9767441860465116|\n",
            "|Rustenburg Airfie...|     1|  0|     0|  0|     0|https://en.wikipe...|8589940309|[rustenburg, airf...|(1000,[0,1,2,3,4,...|[[5.4959225E7], [...|0.9772727272727273|\n",
            "|Quaker Instant Oa...|     1|  0|     0|  0|     0|https://en.wikipe...|8589939214|[quaker, instant,...|(1000,[0,1,2,3,4,...|[[5.4959225E7], [...|0.9777777777777777|\n",
            "+--------------------+------+---+------+---+------+--------------------+----------+--------------------+--------------------+--------------------+------------------+\n",
            "only showing top 20 rows\n",
            "\n"
          ]
        }
      ]
    },
    {
      "cell_type": "code",
      "source": [
        "# Save the result into CSV\n",
        "import pandas as pd\n",
        "\n",
        "data = resultDF.toPandas()\n",
        "data.to_csv(\"result.csv\")"
      ],
      "metadata": {
        "id": "nS_df1kQgU1s"
      },
      "execution_count": 31,
      "outputs": []
    }
  ]
}